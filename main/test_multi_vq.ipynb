{
 "cells": [
  {
   "cell_type": "code",
   "execution_count": 1,
   "id": "4b154b05",
   "metadata": {},
   "outputs": [],
   "source": [
    "import torch\n",
    "import os\n",
    "from pathlib import Path\n",
    "\n",
    "# change base folder\n",
    "os.chdir('../')"
   ]
  },
  {
   "cell_type": "code",
   "execution_count": 2,
   "id": "29b9457b",
   "metadata": {},
   "outputs": [
    {
     "name": "stderr",
     "output_type": "stream",
     "text": [
      "/root/miniconda3/envs/fasttalk/lib/python3.11/site-packages/tqdm/auto.py:21: TqdmWarning: IProgress not found. Please update jupyter and ipywidgets. See https://ipywidgets.readthedocs.io/en/stable/user_install.html\n",
      "  from .autonotebook import tqdm as notebook_tqdm\n",
      "/root/miniconda3/envs/fasttalk/lib/python3.11/site-packages/pytorch3d/io/obj_io.py:547: UserWarning: No mtl file provided\n",
      "  warnings.warn(\"No mtl file provided\")\n"
     ]
    }
   ],
   "source": [
    "# Load your model definition and dataset\n",
    "from models import get_model\n",
    "from types import SimpleNamespace\n",
    "import yaml\n",
    "import matplotlib.pyplot as plt\n",
    "from flame_model.FLAME import FLAMEModel\n",
    "from renderer.renderer import Renderer\n",
    "from pytorch3d.transforms import matrix_to_euler_angles\n",
    "import matplotlib.animation as animation\n",
    "import numpy as np\n",
    "from dataset.data_loader_artalk import get_dataloaders\n",
    "from base.baseTrainer import load_state_dict\n",
    "import glob\n",
    "import librosa\n",
    "from transformers import Wav2Vec2Processor, Wav2Vec2FeatureExtractor\n",
    "import torch\n",
    "\n",
    "device   = torch.device(\"cuda\" if torch.cuda.is_available() else \"cpu\")\n",
    "flame    = FLAMEModel(n_shape=300,n_exp=50).to(device)\n",
    "renderer = Renderer(render_full_head=True).to(device)"
   ]
  },
  {
   "cell_type": "code",
   "execution_count": 3,
   "id": "5efee302",
   "metadata": {},
   "outputs": [],
   "source": [
    "def load_and_flatten_yaml(config_path):\n",
    "    \"\"\"\n",
    "    Loads the YAML file and flattens the structure so that\n",
    "    all sub-keys under top-level sections (e.g., DATA, NETWORK, etc.)\n",
    "    appear in a single dictionary without the top-level keys.\n",
    "    \"\"\"\n",
    "    with open(config_path, 'r') as f:\n",
    "        full_config = yaml.safe_load(f)\n",
    "\n",
    "    # Flatten the dict by merging all sub-dicts\n",
    "    flattened_config = {}\n",
    "    for top_level_key, sub_dict in full_config.items():\n",
    "        # sub_dict should itself be a dict of key-value pairs\n",
    "        if isinstance(sub_dict, dict):\n",
    "            # Merge each sub-key into flattened_config\n",
    "            for k, v in sub_dict.items():\n",
    "                flattened_config[k] = v\n",
    "        else:\n",
    "            # In case there's a non-dict top-level key (unlikely but possible)\n",
    "            flattened_config[top_level_key] = sub_dict\n",
    "\n",
    "    return SimpleNamespace(**flattened_config)"
   ]
  },
  {
   "cell_type": "code",
   "execution_count": 4,
   "id": "3adadaf9",
   "metadata": {},
   "outputs": [],
   "source": [
    "global cfg\n",
    "\n",
    "cfg = load_and_flatten_yaml(\"config/artalk_ensemble/stage1.yaml\")"
   ]
  },
  {
   "cell_type": "code",
   "execution_count": 5,
   "id": "d665dea9",
   "metadata": {},
   "outputs": [
    {
     "name": "stdout",
     "output_type": "stream",
     "text": [
      "Loading data...\n"
     ]
    },
    {
     "name": "stderr",
     "output_type": "stream",
     "text": [
      "  1%|▏         | 100/7971 [00:03<05:00, 26.15it/s]"
     ]
    },
    {
     "name": "stdout",
     "output_type": "stream",
     "text": [
      "Loaded data: Train-93, Val-0, Test-8\n"
     ]
    },
    {
     "name": "stderr",
     "output_type": "stream",
     "text": [
      "\n"
     ]
    }
   ],
   "source": [
    "# ####################### Data Loader ####################### #\n",
    "from dataset.data_loader_multi import get_dataloaders\n",
    "dataset = get_dataloaders(cfg)\n",
    "train_loader = dataset['train']\n",
    "if cfg.evaluate:\n",
    "    val_loader = dataset['valid']\n"
   ]
  },
  {
   "cell_type": "code",
   "execution_count": 6,
   "id": "582654a2",
   "metadata": {},
   "outputs": [],
   "source": [
    "output_dir = 'demo/output'\n",
    "\n",
    "for i, (vertice, blendshapes, template, _) in enumerate(train_loader):\n",
    "    if i == 5:\n",
    "        break\n",
    "\n",
    "    # Assume blendshapes has shape [1, 132, 56]\n",
    "    blendshapes = blendshapes.squeeze(0).numpy()  # shape [132, 56]\n",
    "\n",
    "    exp   = blendshapes[:, :50]   # [132, 50]\n",
    "    gpose = blendshapes[:, 50:53]  # [132, 3]\n",
    "    jaw   = blendshapes[:, 53:56]  # [132, 3]\n",
    "    eyelids = blendshapes[:, 56:]  # [132, 3]\n",
    "\n",
    "\n",
    "    base_name = f\"sample_{i}\"\n",
    "    np.savez(os.path.join(output_dir, f\"{base_name}.npz\"), exp=exp, gpose=gpose, jaw=jaw, eyelids=eyelids)"
   ]
  },
  {
   "cell_type": "code",
   "execution_count": null,
   "id": "f52f965e",
   "metadata": {},
   "outputs": [],
   "source": []
  }
 ],
 "metadata": {
  "kernelspec": {
   "display_name": "fasttalk",
   "language": "python",
   "name": "python3"
  },
  "language_info": {
   "codemirror_mode": {
    "name": "ipython",
    "version": 3
   },
   "file_extension": ".py",
   "mimetype": "text/x-python",
   "name": "python",
   "nbconvert_exporter": "python",
   "pygments_lexer": "ipython3",
   "version": "3.11.11"
  }
 },
 "nbformat": 4,
 "nbformat_minor": 5
}
