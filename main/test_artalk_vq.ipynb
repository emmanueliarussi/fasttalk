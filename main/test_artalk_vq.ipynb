{
 "cells": [
  {
   "cell_type": "code",
   "execution_count": 1,
   "id": "993a7437",
   "metadata": {},
   "outputs": [
    {
     "name": "stderr",
     "output_type": "stream",
     "text": [
      "/root/miniconda3/envs/fasttalk/lib/python3.11/site-packages/tqdm/auto.py:21: TqdmWarning: IProgress not found. Please update jupyter and ipywidgets. See https://ipywidgets.readthedocs.io/en/stable/user_install.html\n",
      "  from .autonotebook import tqdm as notebook_tqdm\n",
      "/root/miniconda3/envs/fasttalk/lib/python3.11/site-packages/pytorch3d/io/obj_io.py:547: UserWarning: No mtl file provided\n",
      "  warnings.warn(\"No mtl file provided\")\n"
     ]
    }
   ],
   "source": [
    "import torch\n",
    "import os\n",
    "from pathlib import Path\n",
    "# change base folder\n",
    "os.chdir('../')\n",
    "# Load your model definition and dataset\n",
    "from models import get_model\n",
    "from types import SimpleNamespace\n",
    "import yaml\n",
    "import matplotlib.pyplot as plt\n",
    "from flame_model.FLAME import FLAMEModel\n",
    "from renderer.renderer import Renderer\n",
    "from pytorch3d.transforms import matrix_to_euler_angles\n",
    "import matplotlib.animation as animation\n",
    "import numpy as np\n",
    "from dataset.data_loader_joint_data import get_dataloaders\n",
    "\n",
    "device   = torch.device(\"cuda\" if torch.cuda.is_available() else \"cpu\")\n",
    "flame    = FLAMEModel(n_shape=300,n_exp=50).to(device)\n",
    "renderer = Renderer(render_full_head=True).to(device)"
   ]
  },
  {
   "cell_type": "code",
   "execution_count": 2,
   "id": "67474fde",
   "metadata": {},
   "outputs": [],
   "source": [
    "def load_and_flatten_yaml(config_path):\n",
    "    \"\"\"\n",
    "    Loads the YAML file and flattens the structure so that\n",
    "    all sub-keys under top-level sections (e.g., DATA, NETWORK, etc.)\n",
    "    appear in a single dictionary without the top-level keys.\n",
    "    \"\"\"\n",
    "    with open(config_path, 'r') as f:\n",
    "        full_config = yaml.safe_load(f)\n",
    "\n",
    "    # Flatten the dict by merging all sub-dicts\n",
    "    flattened_config = {}\n",
    "    for top_level_key, sub_dict in full_config.items():\n",
    "        # sub_dict should itself be a dict of key-value pairs\n",
    "        if isinstance(sub_dict, dict):\n",
    "            # Merge each sub-key into flattened_config\n",
    "            for k, v in sub_dict.items():\n",
    "                flattened_config[k] = v\n",
    "        else:\n",
    "            # In case there's a non-dict top-level key (unlikely but possible)\n",
    "            flattened_config[top_level_key] = sub_dict\n",
    "\n",
    "    return SimpleNamespace(**flattened_config)"
   ]
  },
  {
   "cell_type": "code",
   "execution_count": 3,
   "id": "4b822974",
   "metadata": {},
   "outputs": [],
   "source": [
    "# ---- Load model (without DDP for eval) ----\n",
    "def load_model_for_eval(checkpoint_path,cfg):\n",
    "    model = get_model(cfg)\n",
    "    model = model.to(device)\n",
    "\n",
    "    checkpoint = torch.load(checkpoint_path)\n",
    "    if \"state_dict\" in checkpoint:\n",
    "        model.load_state_dict(checkpoint[\"state_dict\"])\n",
    "    else:\n",
    "        model.load_state_dict(checkpoint,map_location=lambda storage, loc: storage.cpu())\n",
    "\n",
    "    model.eval()\n",
    "    return model\n",
    "\n",
    "# ---- Load dataset ----\n",
    "def load_dataset(cfg,test_config):\n",
    "\n",
    "    dataset = get_dataloaders(cfg,test_config)\n",
    "\n",
    "    if not test_config:\n",
    "        train_loader = dataset['train']\n",
    "        val_loader = dataset['valid']\n",
    "        return train_loader, val_loader\n",
    "    else:\n",
    "        test_loader = dataset['test']\n",
    "        return test_loader\n",
    "\n",
    "\n",
    "# ---- Evaluate some samples ----\n",
    "def evaluate_samples(model, data_loader, num_samples=5):\n",
    "    for i, (vertice, blendshapes, template, _) in enumerate(data_loader):\n",
    "\n",
    "        if i >= num_samples:\n",
    "            break\n",
    "\n",
    "        vertice     = vertice.to(device)\n",
    "        blendshapes = blendshapes.to(device)\n",
    "        template    = template.to(device)\n",
    "\n",
    "        with torch.no_grad():\n",
    "            vertice_out, blendshapes_out, quant_loss, info = model(vertice, blendshapes, template)\n",
    "\n",
    "        render_comparison(vertice.squeeze(), vertice_out.squeeze(), blendshapes.squeeze(), blendshapes_out.squeeze(), i)\n",
    "\n",
    "\n",
    "def get_vertices_from_blendshapes(expr, gpose, jaw, eyelids):\n",
    "\n",
    "    # Load the encoded file\n",
    "    expr_tensor    = expr.to(device)\n",
    "    gpose_tensor   = gpose.to(device)\n",
    "    jaw_tensor     = jaw.to(device)\n",
    "    eyelids_tensor = eyelids.to(device)\n",
    "\n",
    "    target_shape_tensor = torch.zeros(expr_tensor.shape[0], 300).expand(expr_tensor.shape[0], -1).to(device)\n",
    "\n",
    "    I = matrix_to_euler_angles(torch.cat([torch.eye(3)[None]], dim=0),\"XYZ\").to(device)\n",
    "\n",
    "    eye_r    = I.clone().to(device).squeeze()\n",
    "    eye_l    = I.clone().to(device).squeeze()\n",
    "    eyes     = torch.cat([eye_r,eye_l],dim=0).expand(expr_tensor.shape[0], -1).to(device)\n",
    "\n",
    "    pose = torch.cat([gpose_tensor, jaw_tensor], dim=-1).to(device)\n",
    "\n",
    "    flame_output_only_shape,_ = flame.forward(shape_params=target_shape_tensor, \n",
    "                                              expression_params=expr_tensor, \n",
    "                                              pose_params=pose, \n",
    "                                              eye_pose_params=eyes)\n",
    "    return flame_output_only_shape.detach()\n",
    "\n",
    "# Assumes flame and renderer are already defined and on correct device\n",
    "\n",
    "def render_comparison(vertice_gt, vertice_pred, blendshapes_gt, blendshapes_pred, index):\n",
    "    # ==== Split GT and predicted blendshapes ====\n",
    "    expr_gt     = blendshapes_gt[:, :50]\n",
    "    gpose_gt    = blendshapes_gt[:, 50:53]\n",
    "    jaw_gt      = blendshapes_gt[:, 53:56]\n",
    "    eyelids_gt  = blendshapes_gt[:, 56:]\n",
    "\n",
    "    expr_pr     = blendshapes_pred[:, :50]\n",
    "    gpose_pr    = blendshapes_pred[:, 50:53]\n",
    "    jaw_pr      = blendshapes_pred[:, 53:56]\n",
    "    eyelids_pr = blendshapes_pred[:, 56:]\n",
    "\n",
    "    # ==== Generate vertices ====\n",
    "    verts_gt = get_vertices_from_blendshapes(expr_gt, gpose_gt, jaw_gt, eyelids_gt) # vertice_gt.reshape(-1,5023,3)\n",
    "    verts_pr = get_vertices_from_blendshapes(expr_pr, gpose_pr, jaw_pr, eyelids_pr) # vertice_pred.reshape(-1,5023,3) \n",
    "    print(verts_gt.shape, verts_pr.shape)\n",
    "\n",
    "    # ==== Camera ====\n",
    "    cam = torch.tensor([5, 0, 0], dtype=torch.float32).unsqueeze(0).to(verts_gt.device)\n",
    "    cam = cam.expand(verts_gt.shape[0], -1)\n",
    "\n",
    "    # ==== Render both sequences ====\n",
    "    frames_gt = renderer.forward(verts_gt, cam)['rendered_img']         # [T, 3, H, W]\n",
    "    frames_pr = renderer.forward(verts_pr, cam)['rendered_img']         # [T, 3, H, W]\n",
    "\n",
    "    # ==== Prepare output folder ====\n",
    "    os.makedirs(\"demo/video\", exist_ok=True)\n",
    "    video_file = f\"demo/video/sample_{index:03d}.mp4\"\n",
    "\n",
    "    # ==== Create animation ====\n",
    "    def update(frame_idx, gt_seq, pr_seq, axes):\n",
    "        gt = gt_seq[frame_idx].detach().cpu().numpy().transpose(1, 2, 0)\n",
    "        pr = pr_seq[frame_idx].detach().cpu().numpy().transpose(1, 2, 0)\n",
    "        combined = np.concatenate([(gt * 255).astype(np.uint8), (pr * 255).astype(np.uint8)], axis=1)\n",
    "        axes.clear()\n",
    "        axes.imshow(combined)\n",
    "        axes.axis(\"off\")\n",
    "\n",
    "    fig, ax = plt.subplots(figsize=(10, 5))\n",
    "    ani = animation.FuncAnimation(\n",
    "        fig,\n",
    "        update,\n",
    "        frames=frames_gt.shape[0],\n",
    "        fargs=(frames_gt, frames_pr, ax),\n",
    "        interval=100\n",
    "    )\n",
    "    ani.save(video_file, writer='ffmpeg', fps=25)\n",
    "    plt.close(fig)\n",
    "\n",
    "    print(f\"Saved video comparison to {video_file}\")"
   ]
  },
  {
   "cell_type": "code",
   "execution_count": 4,
   "id": "1922c8ad",
   "metadata": {},
   "outputs": [
    {
     "name": "stdout",
     "output_type": "stream",
     "text": [
      "Loading data...\n"
     ]
    },
    {
     "name": "stderr",
     "output_type": "stream",
     "text": [
      "  1%|          | 100/14181 [00:08<19:22, 12.11it/s]\n"
     ]
    },
    {
     "name": "stdout",
     "output_type": "stream",
     "text": [
      "Loaded data: Train-70, Val-22, Test-9\n"
     ]
    }
   ],
   "source": [
    "device   = torch.device(\"cuda\" if torch.cuda.is_available() else \"cpu\")\n",
    "\n",
    "global cfg\n",
    "\n",
    "cfg = load_and_flatten_yaml(\"config/joint_data/stage1.yaml\")\n",
    "\n",
    "checkpoint_path = \"/root/Projects/fasttalk/logs/joint_data/joint_data_14k_s1/model_70/model.pth.tar\"\n",
    "model = load_model_for_eval(checkpoint_path,cfg)\n",
    "\n",
    "train_loader, val_loader = load_dataset(cfg, test_config=False)  "
   ]
  },
  {
   "cell_type": "code",
   "execution_count": 5,
   "id": "bbe49e47",
   "metadata": {},
   "outputs": [
    {
     "ename": "TypeError",
     "evalue": "VQAutoEncoder.forward() takes 2 positional arguments but 4 were given",
     "output_type": "error",
     "traceback": [
      "\u001b[31m---------------------------------------------------------------------------\u001b[39m",
      "\u001b[31mTypeError\u001b[39m                                 Traceback (most recent call last)",
      "\u001b[36mCell\u001b[39m\u001b[36m \u001b[39m\u001b[32mIn[5]\u001b[39m\u001b[32m, line 1\u001b[39m\n\u001b[32m----> \u001b[39m\u001b[32m1\u001b[39m \u001b[43mevaluate_samples\u001b[49m\u001b[43m(\u001b[49m\u001b[43mmodel\u001b[49m\u001b[43m,\u001b[49m\u001b[43m \u001b[49m\u001b[43mtrain_loader\u001b[49m\u001b[43m,\u001b[49m\u001b[43m \u001b[49m\u001b[43mnum_samples\u001b[49m\u001b[43m=\u001b[49m\u001b[32;43m5\u001b[39;49m\u001b[43m)\u001b[49m\n",
      "\u001b[36mCell\u001b[39m\u001b[36m \u001b[39m\u001b[32mIn[3]\u001b[39m\u001b[32m, line 41\u001b[39m, in \u001b[36mevaluate_samples\u001b[39m\u001b[34m(model, data_loader, num_samples)\u001b[39m\n\u001b[32m     38\u001b[39m template    = template.to(device)\n\u001b[32m     40\u001b[39m \u001b[38;5;28;01mwith\u001b[39;00m torch.no_grad():\n\u001b[32m---> \u001b[39m\u001b[32m41\u001b[39m     vertice_out, blendshapes_out, quant_loss, info = \u001b[43mmodel\u001b[49m\u001b[43m(\u001b[49m\u001b[43mvertice\u001b[49m\u001b[43m,\u001b[49m\u001b[43m \u001b[49m\u001b[43mblendshapes\u001b[49m\u001b[43m,\u001b[49m\u001b[43m \u001b[49m\u001b[43mtemplate\u001b[49m\u001b[43m)\u001b[49m\n\u001b[32m     43\u001b[39m render_comparison(vertice.squeeze(), vertice_out.squeeze(), blendshapes.squeeze(), blendshapes_out.squeeze(), i)\n",
      "\u001b[36mFile \u001b[39m\u001b[32m~/miniconda3/envs/fasttalk/lib/python3.11/site-packages/torch/nn/modules/module.py:1751\u001b[39m, in \u001b[36mModule._wrapped_call_impl\u001b[39m\u001b[34m(self, *args, **kwargs)\u001b[39m\n\u001b[32m   1749\u001b[39m     \u001b[38;5;28;01mreturn\u001b[39;00m \u001b[38;5;28mself\u001b[39m._compiled_call_impl(*args, **kwargs)  \u001b[38;5;66;03m# type: ignore[misc]\u001b[39;00m\n\u001b[32m   1750\u001b[39m \u001b[38;5;28;01melse\u001b[39;00m:\n\u001b[32m-> \u001b[39m\u001b[32m1751\u001b[39m     \u001b[38;5;28;01mreturn\u001b[39;00m \u001b[38;5;28;43mself\u001b[39;49m\u001b[43m.\u001b[49m\u001b[43m_call_impl\u001b[49m\u001b[43m(\u001b[49m\u001b[43m*\u001b[49m\u001b[43margs\u001b[49m\u001b[43m,\u001b[49m\u001b[43m \u001b[49m\u001b[43m*\u001b[49m\u001b[43m*\u001b[49m\u001b[43mkwargs\u001b[49m\u001b[43m)\u001b[49m\n",
      "\u001b[36mFile \u001b[39m\u001b[32m~/miniconda3/envs/fasttalk/lib/python3.11/site-packages/torch/nn/modules/module.py:1762\u001b[39m, in \u001b[36mModule._call_impl\u001b[39m\u001b[34m(self, *args, **kwargs)\u001b[39m\n\u001b[32m   1757\u001b[39m \u001b[38;5;66;03m# If we don't have any hooks, we want to skip the rest of the logic in\u001b[39;00m\n\u001b[32m   1758\u001b[39m \u001b[38;5;66;03m# this function, and just call forward.\u001b[39;00m\n\u001b[32m   1759\u001b[39m \u001b[38;5;28;01mif\u001b[39;00m \u001b[38;5;129;01mnot\u001b[39;00m (\u001b[38;5;28mself\u001b[39m._backward_hooks \u001b[38;5;129;01mor\u001b[39;00m \u001b[38;5;28mself\u001b[39m._backward_pre_hooks \u001b[38;5;129;01mor\u001b[39;00m \u001b[38;5;28mself\u001b[39m._forward_hooks \u001b[38;5;129;01mor\u001b[39;00m \u001b[38;5;28mself\u001b[39m._forward_pre_hooks\n\u001b[32m   1760\u001b[39m         \u001b[38;5;129;01mor\u001b[39;00m _global_backward_pre_hooks \u001b[38;5;129;01mor\u001b[39;00m _global_backward_hooks\n\u001b[32m   1761\u001b[39m         \u001b[38;5;129;01mor\u001b[39;00m _global_forward_hooks \u001b[38;5;129;01mor\u001b[39;00m _global_forward_pre_hooks):\n\u001b[32m-> \u001b[39m\u001b[32m1762\u001b[39m     \u001b[38;5;28;01mreturn\u001b[39;00m \u001b[43mforward_call\u001b[49m\u001b[43m(\u001b[49m\u001b[43m*\u001b[49m\u001b[43margs\u001b[49m\u001b[43m,\u001b[49m\u001b[43m \u001b[49m\u001b[43m*\u001b[49m\u001b[43m*\u001b[49m\u001b[43mkwargs\u001b[49m\u001b[43m)\u001b[49m\n\u001b[32m   1764\u001b[39m result = \u001b[38;5;28;01mNone\u001b[39;00m\n\u001b[32m   1765\u001b[39m called_always_called_hooks = \u001b[38;5;28mset\u001b[39m()\n",
      "\u001b[31mTypeError\u001b[39m: VQAutoEncoder.forward() takes 2 positional arguments but 4 were given"
     ]
    }
   ],
   "source": [
    "evaluate_samples(model, train_loader, num_samples=5)"
   ]
  },
  {
   "cell_type": "code",
   "execution_count": null,
   "id": "3bea40ba",
   "metadata": {},
   "outputs": [],
   "source": [
    "test_loader = load_dataset(cfg, test_config=True)"
   ]
  },
  {
   "cell_type": "code",
   "execution_count": null,
   "id": "3c334f9d",
   "metadata": {},
   "outputs": [],
   "source": [
    "\n",
    "evaluate_samples(model, test_loader, num_samples=5)"
   ]
  },
  {
   "cell_type": "code",
   "execution_count": null,
   "id": "b78d511b",
   "metadata": {},
   "outputs": [],
   "source": []
  }
 ],
 "metadata": {
  "kernelspec": {
   "display_name": "fasttalk",
   "language": "python",
   "name": "python3"
  },
  "language_info": {
   "codemirror_mode": {
    "name": "ipython",
    "version": 3
   },
   "file_extension": ".py",
   "mimetype": "text/x-python",
   "name": "python",
   "nbconvert_exporter": "python",
   "pygments_lexer": "ipython3",
   "version": "3.11.11"
  }
 },
 "nbformat": 4,
 "nbformat_minor": 5
}
