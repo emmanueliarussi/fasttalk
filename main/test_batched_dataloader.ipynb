{
 "cells": [
  {
   "cell_type": "code",
   "execution_count": null,
   "id": "ed04157d",
   "metadata": {},
   "outputs": [],
   "source": [
    "import torch\n",
    "import os\n",
    "# change base folder\n",
    "os.chdir('../')\n",
    "from types import SimpleNamespace\n",
    "import yaml\n",
    "import numpy as np\n",
    "from dataset.data_loader_joint_data_batched import get_dataloaders\n",
    "\n",
    "device   = torch.device(\"cuda\" if torch.cuda.is_available() else \"cpu\")"
   ]
  },
  {
   "cell_type": "code",
   "execution_count": null,
   "id": "ded5ee36",
   "metadata": {},
   "outputs": [],
   "source": [
    "def load_and_flatten_yaml(config_path):\n",
    "    \"\"\"\n",
    "    Loads the YAML file and flattens the structure so that\n",
    "    all sub-keys under top-level sections (e.g., DATA, NETWORK, etc.)\n",
    "    appear in a single dictionary without the top-level keys.\n",
    "    \"\"\"\n",
    "    with open(config_path, 'r') as f:\n",
    "        full_config = yaml.safe_load(f)\n",
    "\n",
    "    # Flatten the dict by merging all sub-dicts\n",
    "    flattened_config = {}\n",
    "    for top_level_key, sub_dict in full_config.items():\n",
    "        # sub_dict should itself be a dict of key-value pairs\n",
    "        if isinstance(sub_dict, dict):\n",
    "            # Merge each sub-key into flattened_config\n",
    "            for k, v in sub_dict.items():\n",
    "                flattened_config[k] = v\n",
    "        else:\n",
    "            # In case there's a non-dict top-level key (unlikely but possible)\n",
    "            flattened_config[top_level_key] = sub_dict\n",
    "\n",
    "    return SimpleNamespace(**flattened_config)"
   ]
  },
  {
   "cell_type": "code",
   "execution_count": null,
   "id": "e35d1da4",
   "metadata": {},
   "outputs": [],
   "source": [
    "global cfg\n",
    "\n",
    "cfg = load_and_flatten_yaml(\"config/joint_data/stage2.yaml\")"
   ]
  },
  {
   "cell_type": "code",
   "execution_count": null,
   "id": "ab2f11e5",
   "metadata": {},
   "outputs": [],
   "source": [
    "test_config = False\n",
    "dataset = get_dataloaders(cfg,test_config)\n",
    "\n",
    "if not test_config:\n",
    "    train_loader = dataset['train']\n",
    "    val_loader   = dataset['valid']\n",
    "else:\n",
    "    test_loader = dataset['test']"
   ]
  },
  {
   "cell_type": "code",
   "execution_count": null,
   "id": "0bc807ae",
   "metadata": {},
   "outputs": [],
   "source": [
    "padded_blendshapes, blendshape_mask, padded_audios, audio_mask = next(iter(train_loader))"
   ]
  },
  {
   "cell_type": "code",
   "execution_count": null,
   "id": "1f653fc6",
   "metadata": {},
   "outputs": [],
   "source": [
    "padded_blendshapes.shape"
   ]
  },
  {
   "cell_type": "code",
   "execution_count": null,
   "id": "7c8237f7",
   "metadata": {},
   "outputs": [],
   "source": [
    "blendshape_mask.shape"
   ]
  },
  {
   "cell_type": "code",
   "execution_count": null,
   "id": "9c6d2fc6",
   "metadata": {},
   "outputs": [],
   "source": [
    "padded_audios.shape"
   ]
  },
  {
   "cell_type": "code",
   "execution_count": null,
   "id": "c6acf34d",
   "metadata": {},
   "outputs": [],
   "source": [
    "audio_mask.shape"
   ]
  },
  {
   "cell_type": "code",
   "execution_count": null,
   "id": "a5db2907",
   "metadata": {},
   "outputs": [],
   "source": [
    "import IPython.display as ipd\n",
    "\n",
    "audio_np = padded_audios[1].squeeze().numpy()  # shape: (640*T,)\n",
    "audio_np.shape"
   ]
  },
  {
   "cell_type": "code",
   "execution_count": null,
   "id": "69be6794",
   "metadata": {},
   "outputs": [],
   "source": [
    "\n",
    "# Play the audio (assuming 16000 Hz sampling rate)\n",
    "ipd.Audio(audio_np, rate=16000)"
   ]
  },
  {
   "cell_type": "code",
   "execution_count": null,
   "id": "ae08b85a",
   "metadata": {},
   "outputs": [],
   "source": []
  }
 ],
 "metadata": {
  "kernelspec": {
   "display_name": "fasttalk",
   "language": "python",
   "name": "python3"
  },
  "language_info": {
   "codemirror_mode": {
    "name": "ipython",
    "version": 3
   },
   "file_extension": ".py",
   "mimetype": "text/x-python",
   "name": "python",
   "nbconvert_exporter": "python",
   "pygments_lexer": "ipython3",
   "version": "3.11.11"
  }
 },
 "nbformat": 4,
 "nbformat_minor": 5
}
